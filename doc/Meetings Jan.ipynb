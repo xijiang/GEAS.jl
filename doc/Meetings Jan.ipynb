{
 "cells": [
  {
   "cell_type": "markdown",
   "metadata": {},
   "source": [
    "# 2021-01-22\n",
    "## Base population preparation\n",
    "### Nofima\n",
    "- 600 ID, 53211 SNP, 30 chromosomes\n",
    "- preparation (`genotypes.jl`)\n",
    "  - Convert to vcf\n",
    "  - rename ref/alt T/C from 1/2\n",
    "  - shift `bp` of later SNP on the same chromosome by 1000, if a same position appears\n",
    "    - to utilize all SNP\n",
    "  - impute and phase with `beagle.jar`\n",
    "  - $\\Rightarrow$ `Dict(:pos => Int[chr bp], :hap => Int8[nlc, nhap])`\n",
    "\n",
    "### With `macs`"
   ]
  },
  {
   "cell_type": "markdown",
   "metadata": {},
   "source": [
    "# 2021-01-13\n",
    "- [x] Setup a meeting on 22nd, Jan.\n",
    "- [x] Ask Lucman for real genotypes ~ 300 ID, 50k loci chips\n",
    "- [ ] Add a factor for gene editing successful rate\n",
    "- [ ] Write a dropping program in Julia\n",
    "- [x] Sex different recombination rates?\n",
    "\t- Not necessary\n",
    "\t\t- See Sigbjørn Lien et. al. 2011\n",
    "\t\t- differ before as datasets were small\n",
    "\t- Maybe consider centromeres?\n",
    "- [ ] Consider to break association\n",
    "\t- negative hitch-hikers compromise long term selection\n",
    "\t- to question about far futere outlook\n",
    "\t- edit large of small QTL?\n",
    "- [x] genotype simulation\n",
    "\t- [ms](http://home.uchicago.edu/~rhudson1/source/mksamples.html)\n",
    "\t- [macs](https://github.com/gchen98/macs)\n",
    "\t- [seq-gen](https://github.com/rambaut/Seq-Gen)\n",
    "    - can use `macs` later.\n",
    "- [ ] Breeding structure\n",
    "- [ ] Phenotypes\n",
    "\t- [ ] Binary \n",
    "\t- [ ] Normal/Production\n",
    "- [ ] A pipeline draft for next meeting."
   ]
  },
  {
   "cell_type": "markdown",
   "metadata": {},
   "source": [
    "# 2021-01-07\n",
    "- [x] Ask Binyam for genotypes\n",
    "    - From Lucman now\n",
    "    - Done 2021-01-14\n",
    "- [x] Setup next meeting \n",
    "- [x] Read paper _Jenko et al. Genetics Selection Evolution (2015) 47:55_ (see Calibre)\n",
    "- [x] Simulate some genotypes\n",
    "  - try some NSG genotypes maybe\n"
   ]
  }
 ],
 "metadata": {
  "kernelspec": {
   "display_name": "Julia 1.7.0-DEV",
   "language": "julia",
   "name": "julia-1.7"
  },
  "language_info": {
   "name": ""
  }
 },
 "nbformat": 4,
 "nbformat_minor": 4
}
